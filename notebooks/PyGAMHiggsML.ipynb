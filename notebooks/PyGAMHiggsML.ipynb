{
 "cells": [
  {
   "cell_type": "code",
   "execution_count": 8,
   "id": "220fb627-6ac9-4b58-baa1-16007d874eec",
   "metadata": {
    "tags": []
   },
   "outputs": [],
   "source": [
    "from pygam import LinearGAM, s"
   ]
  },
  {
   "cell_type": "code",
   "execution_count": 3,
   "id": "c0c3d939",
   "metadata": {},
   "outputs": [
    {
     "name": "stdout",
     "output_type": "stream",
     "text": [
      "Requirement already satisfied: pandas in c:\\users\\micha\\miniforge3\\envs\\gam39\\lib\\site-packages (2.2.3)\n",
      "Requirement already satisfied: numpy>=1.22.4 in c:\\users\\micha\\miniforge3\\envs\\gam39\\lib\\site-packages (from pandas) (1.26.4)\n",
      "Requirement already satisfied: python-dateutil>=2.8.2 in c:\\users\\micha\\miniforge3\\envs\\gam39\\lib\\site-packages (from pandas) (2.9.0.post0)\n",
      "Requirement already satisfied: pytz>=2020.1 in c:\\users\\micha\\miniforge3\\envs\\gam39\\lib\\site-packages (from pandas) (2025.2)\n",
      "Requirement already satisfied: tzdata>=2022.7 in c:\\users\\micha\\miniforge3\\envs\\gam39\\lib\\site-packages (from pandas) (2025.2)\n",
      "Requirement already satisfied: six>=1.5 in c:\\users\\micha\\miniforge3\\envs\\gam39\\lib\\site-packages (from python-dateutil>=2.8.2->pandas) (1.17.0)\n",
      "Note: you may need to restart the kernel to use updated packages.\n"
     ]
    }
   ],
   "source": [
    "pip install pandas"
   ]
  },
  {
   "cell_type": "code",
   "execution_count": 4,
   "id": "43db5c67",
   "metadata": {},
   "outputs": [],
   "source": [
    "import pandas as pd\n",
    "df=pd.read_csv('training.csv')\n",
    "# pd.reset_columns(,'all')"
   ]
  },
  {
   "cell_type": "code",
   "execution_count": 9,
   "id": "365dc501",
   "metadata": {},
   "outputs": [],
   "source": [
    "pd.set_option('display.max_columns',None)\n",
    "X=df.iloc[:,:-1].to_numpy()\n",
    "# y=df['Label'].to_numpy()\n",
    "by=df['Label'].map({'s':0, 'b':1})"
   ]
  },
  {
   "cell_type": "code",
   "execution_count": 13,
   "id": "9cd575b8",
   "metadata": {},
   "outputs": [],
   "source": [
    "from functools import reduce\n",
    "import operator\n",
    "splines=reduce(operator.add,[s(i) for i in range(32)])"
   ]
  },
  {
   "cell_type": "code",
   "execution_count": 14,
   "id": "c159d611",
   "metadata": {},
   "outputs": [],
   "source": [
    "gam=LinearGAM(splines).fit(X,by)"
   ]
  },
  {
   "cell_type": "code",
   "execution_count": 12,
   "id": "93e95c1e",
   "metadata": {},
   "outputs": [
    {
     "name": "stdout",
     "output_type": "stream",
     "text": [
      "LinearGAM                                                                                                 \n",
      "=============================================== ==========================================================\n",
      "Distribution:                        NormalDist Effective DoF:                                     96.1705\n",
      "Link Function:                     IdentityLink Log Likelihood:                               -596589.5145\n",
      "Number of Samples:                       250000 AIC:                                          1193373.3698\n",
      "                                                AICc:                                         1193373.4462\n",
      "                                                GCV:                                                 0.148\n",
      "                                                Scale:                                              0.1479\n",
      "                                                Pseudo R-Squared:                                   0.3434\n",
      "==========================================================================================================\n",
      "Feature Function                  Lambda               Rank         EDoF         P > x        Sig. Code   \n",
      "================================= ==================== ============ ============ ============ ============\n",
      "s(0)                              [0.6]                20           19.8         8.70e-01                 \n",
      "s(1)                              [0.6]                20           9.7          1.11e-16     ***         \n",
      "s(2)                              [0.6]                20           13.2         1.11e-16     ***         \n",
      "s(3)                              [0.6]                20           11.6         1.11e-16     ***         \n",
      "s(4)                              [0.6]                20           6.8          1.11e-16     ***         \n",
      "s(5)                              [0.6]                20           2.9          1.11e-16     ***         \n",
      "s(6)                              [0.6]                20           11.2         1.11e-16     ***         \n",
      "s(7)                              [0.6]                20           1.0          1.11e-16     ***         \n",
      "s(8)                              [0.6]                20           16.4         1.11e-16     ***         \n",
      "s(9)                              [0.6]                20           3.5          1.11e-16     ***         \n",
      "intercept                                              1            0.0          1.11e-16     ***         \n",
      "==========================================================================================================\n",
      "Significance codes:  0 '***' 0.001 '**' 0.01 '*' 0.05 '.' 0.1 ' ' 1\n",
      "\n",
      "WARNING: Fitting splines and a linear function to a feature introduces a model identifiability problem\n",
      "         which can cause p-values to appear significant when they are not.\n",
      "\n",
      "WARNING: p-values calculated in this manner behave correctly for un-penalized models or models with\n",
      "         known smoothing parameters, but when smoothing parameters have been estimated, the p-values\n",
      "         are typically lower than they should be, meaning that the tests reject the null too readily.\n"
     ]
    },
    {
     "name": "stderr",
     "output_type": "stream",
     "text": [
      "C:\\Users\\micha\\AppData\\Local\\Temp\\ipykernel_32896\\3358381670.py:1: UserWarning: KNOWN BUG: p-values computed in this summary are likely much smaller than they should be. \n",
      " \n",
      "Please do not make inferences based on these values! \n",
      "\n",
      "Collaborate on a solution, and stay up to date at: \n",
      "github.com/dswah/pyGAM/issues/163 \n",
      "\n",
      "  gam.summary()\n"
     ]
    }
   ],
   "source": [
    "gam.summary()"
   ]
  },
  {
   "cell_type": "code",
   "execution_count": 9,
   "id": "fb020bae",
   "metadata": {},
   "outputs": [
    {
     "name": "stdout",
     "output_type": "stream",
     "text": [
      "Requirement already satisfied: scipy in c:\\users\\micha\\miniforge3\\envs\\gam39\\lib\\site-packages (1.11.4)\n",
      "Requirement already satisfied: numpy<1.28.0,>=1.21.6 in c:\\users\\micha\\miniforge3\\envs\\gam39\\lib\\site-packages (from scipy) (1.26.4)\n"
     ]
    }
   ],
   "source": [
    "!pip install scipy"
   ]
  },
  {
   "cell_type": "code",
   "execution_count": 10,
   "id": "0acca1cd",
   "metadata": {},
   "outputs": [],
   "source": [
    "import scipy\n",
    "import numpy as np\n",
    "import random"
   ]
  },
  {
   "cell_type": "code",
   "execution_count": 11,
   "id": "387da36a",
   "metadata": {},
   "outputs": [],
   "source": [
    "lams=np.random.rand(20,10)\n",
    "lams=10**(-3+lams*8)"
   ]
  },
  {
   "cell_type": "code",
   "execution_count": 12,
   "id": "9f3f3720",
   "metadata": {},
   "outputs": [
    {
     "name": "stderr",
     "output_type": "stream",
     "text": [
      "\u001b[38;2;0;255;0m100%\u001b[39m \u001b[38;2;0;255;0m(20 of 20)\u001b[39m |########################| Elapsed Time: 0:11:14 Time:  0:11:143410\n"
     ]
    },
    {
     "name": "stdout",
     "output_type": "stream",
     "text": [
      "LinearGAM                                                                                                 \n",
      "=============================================== ==========================================================\n",
      "Distribution:                        NormalDist Effective DoF:                                     96.1705\n",
      "Link Function:                     IdentityLink Log Likelihood:                               -596589.5145\n",
      "Number of Samples:                       250000 AIC:                                          1193373.3698\n",
      "                                                AICc:                                         1193373.4462\n",
      "                                                GCV:                                                 0.148\n",
      "                                                Scale:                                              0.1479\n",
      "                                                Pseudo R-Squared:                                   0.3434\n",
      "==========================================================================================================\n",
      "Feature Function                  Lambda               Rank         EDoF         P > x        Sig. Code   \n",
      "================================= ==================== ============ ============ ============ ============\n",
      "s(0)                              [0.6]                20           19.8         8.70e-01                 \n",
      "s(1)                              [0.6]                20           9.7          1.11e-16     ***         \n",
      "s(2)                              [0.6]                20           13.2         1.11e-16     ***         \n",
      "s(3)                              [0.6]                20           11.6         1.11e-16     ***         \n",
      "s(4)                              [0.6]                20           6.8          1.11e-16     ***         \n",
      "s(5)                              [0.6]                20           2.9          1.11e-16     ***         \n",
      "s(6)                              [0.6]                20           11.2         1.11e-16     ***         \n",
      "s(7)                              [0.6]                20           1.0          1.11e-16     ***         \n",
      "s(8)                              [0.6]                20           16.4         1.11e-16     ***         \n",
      "s(9)                              [0.6]                20           3.5          1.11e-16     ***         \n",
      "intercept                                              1            0.0          1.11e-16     ***         \n",
      "==========================================================================================================\n",
      "Significance codes:  0 '***' 0.001 '**' 0.01 '*' 0.05 '.' 0.1 ' ' 1\n",
      "\n",
      "WARNING: Fitting splines and a linear function to a feature introduces a model identifiability problem\n",
      "         which can cause p-values to appear significant when they are not.\n",
      "\n",
      "WARNING: p-values calculated in this manner behave correctly for un-penalized models or models with\n",
      "         known smoothing parameters, but when smoothing parameters have been estimated, the p-values\n",
      "         are typically lower than they should be, meaning that the tests reject the null too readily.\n"
     ]
    },
    {
     "name": "stderr",
     "output_type": "stream",
     "text": [
      "C:\\Users\\micha\\AppData\\Local\\Temp\\ipykernel_82832\\2902086953.py:5: UserWarning: KNOWN BUG: p-values computed in this summary are likely much smaller than they should be. \n",
      " \n",
      "Please do not make inferences based on these values! \n",
      "\n",
      "Collaborate on a solution, and stay up to date at: \n",
      "github.com/dswah/pyGAM/issues/163 \n",
      "\n",
      "  gam.summary()\n"
     ]
    }
   ],
   "source": [
    "# lam=np.logspace(-3,5,5)\n",
    "# lams=[lam]*32\n",
    "\n",
    "gam.gridsearch(X,by, lam=lams)\n",
    "gam.summary()"
   ]
  },
  {
   "cell_type": "code",
   "execution_count": 13,
   "id": "14921bd0",
   "metadata": {},
   "outputs": [
    {
     "name": "stdout",
     "output_type": "stream",
     "text": [
      "[[0.6], [0.6], [0.6], [0.6], [0.6], [0.6], [0.6], [0.6], [0.6], [0.6]]\n"
     ]
    }
   ],
   "source": [
    "print(gam.lam)"
   ]
  },
  {
   "cell_type": "code",
   "execution_count": 14,
   "id": "abff27bd",
   "metadata": {},
   "outputs": [
    {
     "data": {
      "text/plain": [
       "array([[1.56882988e+04, 9.69198073e+00, 1.92751782e+00, 4.89633667e+03,\n",
       "        7.74702193e+00, 3.75994252e+01, 1.02868816e-01, 7.39099474e+04,\n",
       "        1.51925918e+00, 7.65019261e+04],\n",
       "       [2.17078806e-03, 1.06182741e+03, 7.64414451e+01, 2.62664965e+02,\n",
       "        8.12590102e-02, 1.70003859e-01, 4.51443741e+00, 1.93337771e-03,\n",
       "        9.78098060e-02, 2.19240310e+02],\n",
       "       [1.92013078e-01, 2.59005930e-02, 4.19579837e-03, 9.23052907e-02,\n",
       "        9.58739236e+02, 1.33290869e-01, 2.37421980e+02, 1.03873338e+00,\n",
       "        7.09677781e-03, 2.09425574e-01],\n",
       "       [2.83908145e+00, 3.84319366e+03, 2.15969073e+02, 7.27548937e-03,\n",
       "        2.03085492e+02, 6.14448419e-01, 1.00241929e+01, 6.29850731e-03,\n",
       "        7.48602799e-01, 5.66789155e+01],\n",
       "       [5.67531247e-02, 2.36669951e-02, 1.16670696e-02, 1.14013847e+04,\n",
       "        4.09437326e+00, 1.76477831e+04, 4.10580402e+02, 8.00251486e+04,\n",
       "        1.15494588e+04, 2.12383929e+00],\n",
       "       [5.45011302e-02, 1.92301806e+03, 8.27836002e+00, 8.06116715e+03,\n",
       "        3.05485727e+02, 9.06279112e-01, 8.94018155e+01, 2.69444255e+04,\n",
       "        5.81459076e-03, 4.52710821e+03],\n",
       "       [4.13783779e-01, 3.31455855e+04, 2.11050195e+01, 2.45999864e-02,\n",
       "        6.94150446e-01, 9.18851757e-02, 4.23918645e-01, 2.25891608e-01,\n",
       "        4.60290068e+02, 9.42813565e+02],\n",
       "       [2.35721051e+03, 3.67817393e-01, 9.74049321e-03, 2.98952632e+03,\n",
       "        5.07924108e-03, 2.62772586e+00, 4.08918779e+02, 2.50604914e+00,\n",
       "        1.07802198e-02, 3.00909931e+00],\n",
       "       [2.48893814e+02, 1.88342953e+02, 3.66993506e-03, 2.07638819e+00,\n",
       "        6.01825053e+02, 7.19874247e+03, 5.56800735e-02, 4.18791780e-03,\n",
       "        8.22519521e+03, 1.97329212e+00],\n",
       "       [2.23978658e+02, 7.65080887e-01, 1.11804502e+04, 2.88639495e+03,\n",
       "        1.55919272e+04, 2.06331810e-02, 6.46762804e-03, 1.89200342e+00,\n",
       "        1.98459650e+04, 8.95914271e+00],\n",
       "       [4.52481324e+00, 1.13763964e-02, 1.06355307e+02, 1.79005198e+00,\n",
       "        9.98317653e-02, 3.58459794e-01, 2.72727694e+03, 5.85908106e-02,\n",
       "        3.95677071e-01, 1.40367888e-03],\n",
       "       [7.55437829e+00, 2.82100714e+00, 3.08554157e+04, 2.68008402e+03,\n",
       "        2.44914772e+00, 1.75685817e-03, 3.68287052e+00, 2.70493909e-02,\n",
       "        2.96525297e+03, 3.84626830e-03],\n",
       "       [1.16499415e+02, 1.52771177e-01, 2.27227622e-03, 3.19123324e+01,\n",
       "        8.59211831e+04, 2.46584019e-02, 1.89492987e+02, 4.51126772e-03,\n",
       "        1.15080035e-02, 1.63723266e+01],\n",
       "       [9.56573523e+04, 9.30008250e-03, 1.51487929e+00, 6.47151138e+02,\n",
       "        8.52752103e+03, 3.05518469e+03, 6.73905717e-03, 1.69626696e+03,\n",
       "        3.47187611e+00, 5.52816987e+03],\n",
       "       [8.81675874e+01, 2.01305476e-01, 1.06364894e-03, 4.24022426e-01,\n",
       "        1.27876155e-01, 2.43665382e+04, 1.11659678e+01, 1.08140699e+01,\n",
       "        9.06794064e+00, 1.39041507e+03],\n",
       "       [4.03125041e-03, 6.80313258e-02, 1.81847894e+01, 1.49544131e+01,\n",
       "        2.42516947e-01, 4.39762601e+04, 3.08519966e+01, 3.82288166e+01,\n",
       "        6.62376564e+00, 6.23727711e+01],\n",
       "       [2.62879592e-02, 1.05513035e-03, 5.99438684e+03, 1.84634287e+04,\n",
       "        3.56831025e+01, 3.94732670e+03, 2.95043619e+03, 3.01667276e+04,\n",
       "        6.19687827e+00, 1.86452102e+02],\n",
       "       [5.00946421e+01, 6.16693329e+03, 1.62222018e+04, 1.04425127e+01,\n",
       "        7.91626397e+00, 3.33540223e+01, 4.06227057e+02, 5.26420384e-03,\n",
       "        3.54675739e-01, 3.02921685e+00],\n",
       "       [3.75184714e+03, 3.31106773e-02, 9.76886418e-02, 7.58275910e+02,\n",
       "        3.54742221e-02, 5.96989970e+02, 2.98020154e-01, 1.34693370e+02,\n",
       "        7.03103154e+00, 5.40351784e-03],\n",
       "       [2.93671769e-02, 7.20555522e+00, 5.90126135e+01, 4.13726910e+02,\n",
       "        3.28601423e+03, 4.07976921e+01, 2.46226519e+03, 2.44424166e-03,\n",
       "        3.56007434e+03, 1.03199425e+03]])"
      ]
     },
     "execution_count": 14,
     "metadata": {},
     "output_type": "execute_result"
    }
   ],
   "source": [
    "lams"
   ]
  },
  {
   "cell_type": "code",
   "execution_count": 3,
   "id": "202a5aef",
   "metadata": {},
   "outputs": [
    {
     "name": "stderr",
     "output_type": "stream",
     "text": [
      "[NbConvertApp] Converting notebook PyGAMHiggsML.ipynb to html\n",
      "[NbConvertApp] Writing 599810 bytes to PyGAMHiggsML.html\n"
     ]
    }
   ],
   "source": [
    "!jupyter nbconvert PyGAMHiggsML.ipynb --to html\n"
   ]
  },
  {
   "cell_type": "code",
   "execution_count": null,
   "id": "f40a11b4",
   "metadata": {},
   "outputs": [],
   "source": []
  }
 ],
 "metadata": {
  "kernelspec": {
   "display_name": "Python (gam39)",
   "language": "python",
   "name": "gam39"
  },
  "language_info": {
   "codemirror_mode": {
    "name": "ipython",
    "version": 3
   },
   "file_extension": ".py",
   "mimetype": "text/x-python",
   "name": "python",
   "nbconvert_exporter": "python",
   "pygments_lexer": "ipython3",
   "version": "3.9.21"
  }
 },
 "nbformat": 4,
 "nbformat_minor": 5
}
